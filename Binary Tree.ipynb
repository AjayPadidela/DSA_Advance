{
 "cells": [
  {
   "cell_type": "markdown",
   "id": "0fb92245",
   "metadata": {},
   "source": [
    "## Question 1"
   ]
  },
  {
   "cell_type": "code",
   "execution_count": 1,
   "id": "08fab828",
   "metadata": {},
   "outputs": [],
   "source": [
    "class Node:\n",
    "    def __init__(self, key):\n",
    "        self.left = None\n",
    "        self.right = None\n",
    "        self.val = key\n",
    " \n",
    " \n",
    "# create root\n",
    "root = Node(1)\n",
    "root.left = Node(2)\n",
    "root.right = Node(3)\n",
    "root.left.left = Node(4)"
   ]
  },
  {
   "cell_type": "markdown",
   "id": "cd402ae3",
   "metadata": {},
   "source": [
    "## Question 2"
   ]
  },
  {
   "cell_type": "code",
   "execution_count": 2,
   "id": "f8524382",
   "metadata": {},
   "outputs": [
    {
     "name": "stdout",
     "output_type": "stream",
     "text": [
      "Height of tree is 3\n"
     ]
    }
   ],
   "source": [
    "class Node:\n",
    " \n",
    "    # Constructor to create a new node\n",
    "    def __init__(self, data):\n",
    "        self.data = data\n",
    "        self.left = None\n",
    "        self.right = None\n",
    " \n",
    "def maxDepth(node):\n",
    "    if node is None:\n",
    "        return -1 ;\n",
    " \n",
    "    else :\n",
    " \n",
    "        # Compute the depth of each subtree\n",
    "        lDepth = maxDepth(node.left)\n",
    "        rDepth = maxDepth(node.right)\n",
    " \n",
    "        # Use the larger one\n",
    "        if (lDepth > rDepth):\n",
    "            return lDepth+1\n",
    "        else:\n",
    "            return rDepth+1\n",
    " \n",
    " \n",
    "# Driver program to test above function\n",
    "root = Node(1)\n",
    "root.left = Node(2)\n",
    "root.right = Node(3)\n",
    "root.left.left = Node(4)\n",
    "root.left.right = Node(5)\n",
    "root.left.left.right = Node(7)\n",
    " \n",
    "print (\"Height of tree is %d\" %(maxDepth(root)))"
   ]
  },
  {
   "cell_type": "markdown",
   "id": "072a4c8f",
   "metadata": {},
   "source": [
    "## Question 3"
   ]
  },
  {
   "cell_type": "code",
   "execution_count": 3,
   "id": "bdaf32ea",
   "metadata": {},
   "outputs": [
    {
     "name": "stdout",
     "output_type": "stream",
     "text": [
      "Preorder traversal of binary tree is\n",
      "1\n",
      "2\n",
      "4\n",
      "5\n",
      "3\n",
      "Inorder traversal of binary tree is\n",
      "4\n",
      "2\n",
      "5\n",
      "1\n",
      "3\n",
      "Postorder traversal of binary tree is\n",
      "4\n",
      "5\n",
      "2\n",
      "3\n",
      "1\n"
     ]
    }
   ],
   "source": [
    "class Node:\n",
    "    def __init__(self, key):\n",
    "        self.left = None\n",
    "        self.right = None\n",
    "        self.val = key\n",
    "\n",
    "def printInorder(root):\n",
    "    if root:\n",
    "        printInorder(root.left)\n",
    "        print(root.val)\n",
    "        printInorder(root.right)\n",
    " \n",
    "def printPostorder(root):\n",
    "    if root:\n",
    "        printPostorder(root.left)\n",
    "        printPostorder(root.right)\n",
    "        print(root.val),\n",
    "\n",
    "def printPreorder(root):\n",
    "    if root:\n",
    "        print(root.val)\n",
    "        printPreorder(root.left)\n",
    "        printPreorder(root.right)\n",
    " \n",
    " \n",
    "# Driver code\n",
    "root = Node(1)\n",
    "root.left = Node(2)\n",
    "root.right = Node(3)\n",
    "root.left.left = Node(4)\n",
    "root.left.right = Node(5)\n",
    "print(\"Preorder traversal of binary tree is\")\n",
    "printPreorder(root)\n",
    " \n",
    "print(\"Inorder traversal of binary tree is\")\n",
    "printInorder(root)\n",
    " \n",
    "print(\"Postorder traversal of binary tree is\")\n",
    "printPostorder(root)"
   ]
  },
  {
   "cell_type": "markdown",
   "id": "7f57128d",
   "metadata": {},
   "source": [
    "## Question 4"
   ]
  },
  {
   "cell_type": "code",
   "execution_count": 4,
   "id": "d860a77c",
   "metadata": {},
   "outputs": [
    {
     "name": "stdout",
     "output_type": "stream",
     "text": [
      "4 6 7 9 101 "
     ]
    }
   ],
   "source": [
    "class Node:\n",
    "   \n",
    "    def __init__(self, data):\n",
    "        self.data = data\n",
    "        self.left = None\n",
    "        self.right = None\n",
    " \n",
    "# Function to print leaf\n",
    "# nodes from left to right\n",
    "def printLeafNodes(root):\n",
    " \n",
    "    if (not root):\n",
    "        return\n",
    " \n",
    "\n",
    "    if (not root.left and\n",
    "        not root.right):\n",
    "        print(root.data,\n",
    "              end = \" \")\n",
    "        return\n",
    " \n",
    "    if root.left:\n",
    "        printLeafNodes(root.left)\n",
    "    if root.right:\n",
    "        printLeafNodes(root.right)\n",
    " \n",
    "# Driver Code\n",
    "if __name__ == \"__main__\":\n",
    " \n",
    "\n",
    "    root = Node(1)\n",
    "    root.left = Node(2)\n",
    "    root.right = Node(3)\n",
    "    root.left.left = Node(4)\n",
    "    root.right.left = Node(5)\n",
    "    root.right.right = Node(8)\n",
    "    root.right.left.left = Node(6)\n",
    "    root.right.left.right = Node(7)\n",
    "    root.right.right.left = Node(9)\n",
    "    root.right.right.right = Node(10)\n",
    "    root.right.right.right.right = Node(101)\n",
    "    \n",
    "      # print leaf nodes of the given tree\n",
    "    printLeafNodes(root)"
   ]
  },
  {
   "cell_type": "markdown",
   "id": "40f7a7cd",
   "metadata": {},
   "source": [
    "## Question 5"
   ]
  },
  {
   "cell_type": "code",
   "execution_count": 5,
   "id": "7ba7a0e7",
   "metadata": {},
   "outputs": [
    {
     "name": "stdout",
     "output_type": "stream",
     "text": [
      "50\n",
      "45\n",
      "80\n",
      "30\n",
      "46\n",
      "70\n",
      "90\n",
      "85\n"
     ]
    }
   ],
   "source": [
    "class Node:\n",
    "    def __init__(self, data):\n",
    "        self.data = data\n",
    "        self.left = None\n",
    "        self.right = None\n",
    "        \n",
    "def insert(node, data):\n",
    "    # empty tree\n",
    "    if node is None:\n",
    "        return Node(data)\n",
    "    # if tree is not empty\n",
    "    if data <= node.data:\n",
    "        node.left = insert(node.left, data)\n",
    "    else:\n",
    "        node.right = insert(node.right, data)\n",
    "    return node\n",
    "\n",
    "root = insert(None, 50)\n",
    "insert(root,45)\n",
    "insert(root,30)\n",
    "insert(root,80)\n",
    "insert(root,70)\n",
    "insert(root,90)\n",
    "insert(root,46)\n",
    "insert(root,85)\n",
    "\n",
    "def bfs(root):\n",
    "    queue = []\n",
    "    \n",
    "        # empty tree\n",
    "    if root is None:\n",
    "        return\n",
    "    \n",
    "    queue.append(root)\n",
    "    \n",
    "    while(len(queue)>0):\n",
    "        popped_node = queue.pop(0)\n",
    "        print(popped_node.data)\n",
    "        if popped_node.left is not None:\n",
    "            queue.append(popped_node.left)\n",
    "        if popped_node.right is not None:\n",
    "            queue.append(popped_node.right)\n",
    "            \n",
    "bfs(root)"
   ]
  },
  {
   "cell_type": "markdown",
   "id": "9cc3c47f",
   "metadata": {},
   "source": [
    "## Question 6"
   ]
  },
  {
   "cell_type": "code",
   "execution_count": 6,
   "id": "7843ec97",
   "metadata": {},
   "outputs": [
    {
     "name": "stdout",
     "output_type": "stream",
     "text": [
      "Sum of left leaves is 78\n"
     ]
    }
   ],
   "source": [
    "class Node:\n",
    "    # Constructor to create a new Node\n",
    "    def __init__(self, key):\n",
    "        self.key = key\n",
    "        self.left = None\n",
    "        self.right = None\n",
    " \n",
    "def isLeaf(node):\n",
    "    if node is None:\n",
    "        return False\n",
    "    if node.left is None and node.right is None:\n",
    "        return True\n",
    "    return False\n",
    " \n",
    "def leftLeavesSum(root):\n",
    "    \n",
    "    res = 0  \n",
    "    if root is not None:\n",
    "\n",
    "        if isLeaf(root.left):\n",
    "            res += root.left.key\n",
    "        else:\n",
    "            res += leftLeavesSum(root.left)\n",
    " \n",
    "        res += leftLeavesSum(root.right)\n",
    "    return res\n",
    " \n",
    "\n",
    "# Driver program\n",
    "root = Node(20)\n",
    "root.left = Node(9)\n",
    "root.right = Node(49)\n",
    "root.right.left = Node(23)       \n",
    "root.right.right = Node(52)\n",
    "root.right.right.left = Node(50)\n",
    "root.left.left = Node(5)\n",
    "root.left.right = Node(12)\n",
    "root.left.right.right = Node(12)\n",
    "print (\"Sum of left leaves is\", leftLeavesSum(root))\n",
    " "
   ]
  },
  {
   "cell_type": "markdown",
   "id": "4d51270c",
   "metadata": {},
   "source": [
    "## Question 7"
   ]
  },
  {
   "cell_type": "code",
   "execution_count": 7,
   "id": "46bfa71f",
   "metadata": {},
   "outputs": [
    {
     "name": "stdout",
     "output_type": "stream",
     "text": [
      "144\n"
     ]
    }
   ],
   "source": [
    "def SumNodes(l):\n",
    "    \n",
    "    leafNodeCount = pow(2, l - 1)\n",
    "    vec = [[] for i in range(l)]\n",
    "    for i in range(1, leafNodeCount + 1):\n",
    "        vec[l - 1].append(i)\n",
    " \n",
    "    for i in range(l - 2, -1, -1):\n",
    "        k = 0\n",
    "        while (k < len(vec[i + 1]) - 1):\n",
    "            vec[i].append(vec[i + 1][k] +\n",
    "                          vec[i + 1][k + 1])\n",
    "            k += 2\n",
    " \n",
    "    Sum = 0\n",
    "    for i in range(l):\n",
    "        for j in range(len(vec[i])):\n",
    "            Sum += vec[i][j]\n",
    " \n",
    "    return Sum\n",
    " \n",
    "# Driver Code\n",
    "if __name__ == '__main__':\n",
    "    l = 4\n",
    " \n",
    "    print(SumNodes(l))\n",
    "     "
   ]
  },
  {
   "cell_type": "markdown",
   "id": "89b820e2",
   "metadata": {},
   "source": [
    "## Question 8"
   ]
  },
  {
   "cell_type": "code",
   "execution_count": 8,
   "id": "bdddb1c4",
   "metadata": {},
   "outputs": [
    {
     "name": "stdout",
     "output_type": "stream",
     "text": [
      "Count = 2\n"
     ]
    }
   ],
   "source": [
    "class getNode:\n",
    "    def __init__(self, data):\n",
    "        self.data = data\n",
    "        self.left = self.right = None\n",
    "         \n",
    "def countSubtreesWithSumX(root, count, x):\n",
    "    if (not root):\n",
    "        return 0\n",
    " \n",
    "    ls = countSubtreesWithSumX(root.left,count, x)\n",
    "    rs = countSubtreesWithSumX(root.right,count, x)\n",
    "    Sum = ls + rs + root.data\n",
    "    if (Sum == x):\n",
    "        count[0] += 1\n",
    "    return Sum\n",
    " \n",
    "def countSubtreesWithSumXUtil(root, x):\n",
    "    if (not root):\n",
    "        return 0\n",
    "    count = [0]\n",
    " \n",
    "    ls = countSubtreesWithSumX(root.left,count, x)\n",
    "    rs = countSubtreesWithSumX(root.right,count, x)\n",
    "    if ((ls + rs + root.data) == x):\n",
    "        count[0] += 1\n",
    "    return count[0]\n",
    " \n",
    "# Driver Code\n",
    "if __name__ == '__main__':\n",
    "     \n",
    "    root = getNode(5)\n",
    "    root.left = getNode(-10)\n",
    "    root.right = getNode(3)\n",
    "    root.left.left = getNode(9)\n",
    "    root.left.right = getNode(8)\n",
    "    root.right.left = getNode(-4)\n",
    "    root.right.right = getNode(7)\n",
    " \n",
    "    x = 7\n",
    " \n",
    "    print(\"Count =\",\n",
    "           countSubtreesWithSumXUtil(root, x))"
   ]
  },
  {
   "cell_type": "markdown",
   "id": "26cb56f5",
   "metadata": {},
   "source": [
    "## Question 9"
   ]
  },
  {
   "cell_type": "code",
   "execution_count": 9,
   "id": "f47077be",
   "metadata": {},
   "outputs": [
    {
     "name": "stdout",
     "output_type": "stream",
     "text": [
      "Maximum level sum is 17\n"
     ]
    }
   ],
   "source": [
    "from collections import deque\n",
    "class Node:\n",
    "     \n",
    "    def __init__(self, key):\n",
    "         \n",
    "        self.data = key\n",
    "        self.left = None\n",
    "        self.right = None\n",
    " \n",
    "def maxLevelSum(root):\n",
    "     \n",
    "    # Base case\n",
    "    if (root == None):\n",
    "        return 0\n",
    "    result = root.data   \n",
    "    q = deque()\n",
    "    q.append(root)\n",
    "     \n",
    "    while (len(q) > 0):\n",
    "\n",
    "        count = len(q)\n",
    "        sum = 0\n",
    "        while (count > 0):\n",
    "            temp = q.popleft()\n",
    "            sum = sum + temp.data\n",
    "            if (temp.left != None):\n",
    "                q.append(temp.left)\n",
    "            if (temp.right != None):\n",
    "                q.append(temp.right)\n",
    "            count -= 1\n",
    "        result = max(sum, result)\n",
    " \n",
    "    return result\n",
    "\n",
    "# Driver code\n",
    "if __name__ == '__main__':\n",
    "     \n",
    "    root = Node(1)\n",
    "    root.left = Node(2)\n",
    "    root.right = Node(3)\n",
    "    root.left.left = Node(4)\n",
    "    root.left.right = Node(5)\n",
    "    root.right.right = Node(8)\n",
    "    root.right.right.left = Node(6)\n",
    "    root.right.right.right = Node(7) \n",
    "    print(\"Maximum level sum is\", maxLevelSum(root))"
   ]
  },
  {
   "cell_type": "markdown",
   "id": "12b393a2",
   "metadata": {},
   "source": [
    "## Question 10 "
   ]
  },
  {
   "cell_type": "code",
   "execution_count": 10,
   "id": "b5857cb3",
   "metadata": {},
   "outputs": [
    {
     "name": "stdout",
     "output_type": "stream",
     "text": [
      "1 4 5 "
     ]
    }
   ],
   "source": [
    "class newNode:\n",
    "    def __init__(self, data):\n",
    "        self.data = data\n",
    "        self.left = self.right = None\n",
    " \n",
    "def printOddNodes(root, isOdd = True):\n",
    "    if (root == None):\n",
    "        return\n",
    "\n",
    "    if (isOdd):\n",
    "        print(root.data, end = \" \")\n",
    "    printOddNodes(root.left, not isOdd)\n",
    "    printOddNodes(root.right, not isOdd)\n",
    " \n",
    "# Driver code\n",
    "if __name__ == '__main__':\n",
    "    root = newNode(1)\n",
    "    root.left = newNode(2)\n",
    "    root.right = newNode(3)\n",
    "    root.left.left = newNode(4)\n",
    "    root.left.right = newNode(5)\n",
    "    printOddNodes(root)"
   ]
  },
  {
   "cell_type": "code",
   "execution_count": null,
   "id": "b6df1434",
   "metadata": {},
   "outputs": [],
   "source": []
  }
 ],
 "metadata": {
  "kernelspec": {
   "display_name": "Python 3",
   "language": "python",
   "name": "python3"
  },
  "language_info": {
   "codemirror_mode": {
    "name": "ipython",
    "version": 3
   },
   "file_extension": ".py",
   "mimetype": "text/x-python",
   "name": "python",
   "nbconvert_exporter": "python",
   "pygments_lexer": "ipython3",
   "version": "3.8.8"
  }
 },
 "nbformat": 4,
 "nbformat_minor": 5
}
