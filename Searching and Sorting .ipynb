{
 "cells": [
  {
   "cell_type": "markdown",
   "id": "8b0e2e88",
   "metadata": {},
   "source": [
    "# Binary Search"
   ]
  },
  {
   "cell_type": "code",
   "execution_count": 1,
   "id": "d8c07cc9",
   "metadata": {},
   "outputs": [
    {
     "name": "stdout",
     "output_type": "stream",
     "text": [
      "Input list elements: \n",
      "1 2 3 4 5 6 9\n",
      "Enter number to be searched: 4\n",
      "found at index= 3\n"
     ]
    }
   ],
   "source": [
    "def binary_search(l, findnumber, low, high):\n",
    "    if low > high :\n",
    "        print('not found')\n",
    "        return\n",
    "    mid_index = (low+high)//2\n",
    "    if l[mid_index] == findnumber:\n",
    "        print('found at index=',mid_index)\n",
    "    else:\n",
    "        if findnumber > l[mid_index]:\n",
    "            low = mid_index + 1\n",
    "            binary_search(l, findnumber, low, high)\n",
    "        else:\n",
    "            high = mid_index - 1\n",
    "            binary_search(l, findnumber, low, high)\n",
    "            \n",
    "            \n",
    "print(\"Input list elements: \")\n",
    "l=list(map(int,input().split(\" \")))\n",
    "x=int(input(\"Enter number to be searched: \"))\n",
    "binary_search(l,x,0,len(l)-1)"
   ]
  },
  {
   "cell_type": "markdown",
   "id": "db2703f0",
   "metadata": {},
   "source": [
    "# Merge Sort"
   ]
  },
  {
   "cell_type": "code",
   "execution_count": 2,
   "id": "4f098941",
   "metadata": {},
   "outputs": [
    {
     "name": "stdout",
     "output_type": "stream",
     "text": [
      "[1, 2, 3, 5, 6, 7, 7, 13]\n"
     ]
    }
   ],
   "source": [
    "def merge_sort(A):\n",
    "    n = len(A)\n",
    "    if n==1:\n",
    "        return A\n",
    "    m = n//2\n",
    "    B = merge_sort(A[:m])\n",
    "    C = merge_sort(A[m:])\n",
    "    A_dash = Merge(B,C)\n",
    "    return A_dash\n",
    "\n",
    "\n",
    "def Merge(B,C):\n",
    "    D = []\n",
    "    while len(B)!=0 and len(C)!=0:\n",
    "        b=B[0]\n",
    "        c=C[0]\n",
    "        if b<=c:\n",
    "            D.append(b)\n",
    "            B.pop(0)\n",
    "        else:\n",
    "            D.append(c)\n",
    "            C.pop(0)\n",
    "    if len(B)!=0:\n",
    "        D.extend(B)\n",
    "    if len(C)!=0:\n",
    "        D.extend(C)\n",
    "    return D\n",
    "\n",
    "print(merge_sort([7,2,5,3,7,13,1,6]))"
   ]
  },
  {
   "cell_type": "markdown",
   "id": "07594de1",
   "metadata": {},
   "source": [
    "# Quick Sort"
   ]
  },
  {
   "cell_type": "code",
   "execution_count": 3,
   "id": "a452e588",
   "metadata": {},
   "outputs": [
    {
     "name": "stdout",
     "output_type": "stream",
     "text": [
      "Input list elements: \n",
      "1 3 5 7 9 2 4\n",
      "[1, 2, 3, 4, 5, 7, 9]\n",
      "[1, 2, 3, 4, 5, 7, 9]\n",
      "[1, 2, 3, 4, 5, 7, 9]\n",
      "[1, 2, 3, 4, 5, 7, 9]\n"
     ]
    }
   ],
   "source": [
    "def partition(A,l,r):\n",
    "    x = A[l]\n",
    "    j = l\n",
    "    for i in range(l+1,r+1):\n",
    "        if A[i] <= x:\n",
    "            j += 1\n",
    "            A[j],A[i] = A[i],A[j]\n",
    "    A[l],A[j] = A[j],A[l]\n",
    "    return j\n",
    "\n",
    "def quicksort(A,l,r):\n",
    "    if l>= r:\n",
    "        return\n",
    "    m = partition(A,l,r)\n",
    "    quicksort(A,l,m-1)\n",
    "    quicksort(A,m+1,r)\n",
    "    print(A)\n",
    "    \n",
    "print(\"Input list elements: \")\n",
    "A=list(map(int,input().split(\" \")))    \n",
    "quicksort(A,0,len(A)-1)"
   ]
  },
  {
   "cell_type": "markdown",
   "id": "fdfcc30f",
   "metadata": {},
   "source": [
    "# Insertion Sort\n"
   ]
  },
  {
   "cell_type": "code",
   "execution_count": 4,
   "id": "88c0a558",
   "metadata": {},
   "outputs": [
    {
     "name": "stdout",
     "output_type": "stream",
     "text": [
      "[1, 4, 5, 6, 7, 9, 11, 12, 13]\n"
     ]
    }
   ],
   "source": [
    "def insertionSort(arr):\n",
    "    for i in range(1, len(arr)):\n",
    "        key = arr[i]\n",
    "        j = i-1\n",
    "        while j >= 0 and key < arr[j] :\n",
    "                arr[j + 1] = arr[j]\n",
    "                j -= 1\n",
    "        arr[j + 1] = key\n",
    " \n",
    " \n",
    "arr = [12,11,13,5,6,7,4,9,1]\n",
    "insertionSort(arr)\n",
    "print(arr)"
   ]
  },
  {
   "cell_type": "markdown",
   "id": "a0d7de9e",
   "metadata": {},
   "source": [
    "# String Sorting "
   ]
  },
  {
   "cell_type": "code",
   "execution_count": 5,
   "id": "dc1294d0",
   "metadata": {},
   "outputs": [
    {
     "name": "stdout",
     "output_type": "stream",
     "text": [
      "Input list elements: \n",
      "Ajay Vijay Ramu Raju Vishnu\n",
      "Sorted list is:  ['Ajay', 'Raju', 'Ramu', 'Vijay', 'Vishnu']\n"
     ]
    }
   ],
   "source": [
    "print(\"Input list elements: \")\n",
    "l=list(map(str,input().split(\" \")))  \n",
    "n = len(l)\n",
    "for i in range(n-1):\n",
    "    for j in range(0,n-i-1):\n",
    "        if l[j] > l[j+1]:\n",
    "            l[j],l[j+1] = l[j+1],l[j]\n",
    "            \n",
    "print(\"Sorted list is: \",l)"
   ]
  },
  {
   "cell_type": "code",
   "execution_count": null,
   "id": "155987fd",
   "metadata": {},
   "outputs": [],
   "source": []
  }
 ],
 "metadata": {
  "kernelspec": {
   "display_name": "Python 3",
   "language": "python",
   "name": "python3"
  },
  "language_info": {
   "codemirror_mode": {
    "name": "ipython",
    "version": 3
   },
   "file_extension": ".py",
   "mimetype": "text/x-python",
   "name": "python",
   "nbconvert_exporter": "python",
   "pygments_lexer": "ipython3",
   "version": "3.8.8"
  }
 },
 "nbformat": 4,
 "nbformat_minor": 5
}
